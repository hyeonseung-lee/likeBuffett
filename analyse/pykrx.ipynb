{
 "cells": [
  {
   "cell_type": "code",
   "execution_count": 1,
   "metadata": {},
   "outputs": [
    {
     "name": "stdout",
     "output_type": "stream",
     "text": [
      "Requirement already satisfied: pykrx in /opt/homebrew/Caskroom/miniforge/base/envs/pytorch/lib/python3.8/site-packages (1.0.48)\n",
      "Requirement already satisfied: matplotlib in /opt/homebrew/Caskroom/miniforge/base/envs/pytorch/lib/python3.8/site-packages (from pykrx) (3.5.2)\n",
      "Requirement already satisfied: multipledispatch in /opt/homebrew/Caskroom/miniforge/base/envs/pytorch/lib/python3.8/site-packages (from pykrx) (1.0.0)\n",
      "Requirement already satisfied: numpy in /opt/homebrew/Caskroom/miniforge/base/envs/pytorch/lib/python3.8/site-packages (from pykrx) (1.23.1)\n",
      "Requirement already satisfied: requests in /opt/homebrew/Caskroom/miniforge/base/envs/pytorch/lib/python3.8/site-packages (from pykrx) (2.28.1)\n",
      "Requirement already satisfied: pandas in /opt/homebrew/Caskroom/miniforge/base/envs/pytorch/lib/python3.8/site-packages (from pykrx) (1.4.3)\n",
      "Requirement already satisfied: xlrd in /opt/homebrew/Caskroom/miniforge/base/envs/pytorch/lib/python3.8/site-packages (from pykrx) (2.0.1)\n",
      "Requirement already satisfied: deprecated in /opt/homebrew/Caskroom/miniforge/base/envs/pytorch/lib/python3.8/site-packages (from pykrx) (1.2.14)\n",
      "Requirement already satisfied: datetime in /opt/homebrew/Caskroom/miniforge/base/envs/pytorch/lib/python3.8/site-packages (from pykrx) (5.5)\n",
      "Requirement already satisfied: pytz in /opt/homebrew/Caskroom/miniforge/base/envs/pytorch/lib/python3.8/site-packages (from datetime->pykrx) (2022.1)\n",
      "Requirement already satisfied: zope.interface in /opt/homebrew/Caskroom/miniforge/base/envs/pytorch/lib/python3.8/site-packages (from datetime->pykrx) (6.4.post2)\n",
      "Requirement already satisfied: wrapt<2,>=1.10 in /opt/homebrew/Caskroom/miniforge/base/envs/pytorch/lib/python3.8/site-packages (from deprecated->pykrx) (1.16.0)\n",
      "Requirement already satisfied: python-dateutil>=2.7 in /opt/homebrew/Caskroom/miniforge/base/envs/pytorch/lib/python3.8/site-packages (from matplotlib->pykrx) (2.8.2)\n",
      "Requirement already satisfied: kiwisolver>=1.0.1 in /opt/homebrew/Caskroom/miniforge/base/envs/pytorch/lib/python3.8/site-packages (from matplotlib->pykrx) (1.4.3)\n",
      "Requirement already satisfied: pillow>=6.2.0 in /opt/homebrew/Caskroom/miniforge/base/envs/pytorch/lib/python3.8/site-packages (from matplotlib->pykrx) (8.4.0)\n",
      "Requirement already satisfied: cycler>=0.10 in /opt/homebrew/Caskroom/miniforge/base/envs/pytorch/lib/python3.8/site-packages (from matplotlib->pykrx) (0.11.0)\n",
      "Requirement already satisfied: pyparsing>=2.2.1 in /opt/homebrew/Caskroom/miniforge/base/envs/pytorch/lib/python3.8/site-packages (from matplotlib->pykrx) (3.0.9)\n",
      "Requirement already satisfied: fonttools>=4.22.0 in /opt/homebrew/Caskroom/miniforge/base/envs/pytorch/lib/python3.8/site-packages (from matplotlib->pykrx) (4.34.4)\n",
      "Requirement already satisfied: packaging>=20.0 in /opt/homebrew/Caskroom/miniforge/base/envs/pytorch/lib/python3.8/site-packages (from matplotlib->pykrx) (21.3)\n",
      "Requirement already satisfied: charset-normalizer<3,>=2 in /opt/homebrew/Caskroom/miniforge/base/envs/pytorch/lib/python3.8/site-packages (from requests->pykrx) (2.1.0)\n",
      "Requirement already satisfied: certifi>=2017.4.17 in /opt/homebrew/Caskroom/miniforge/base/envs/pytorch/lib/python3.8/site-packages (from requests->pykrx) (2023.5.7)\n",
      "Requirement already satisfied: idna<4,>=2.5 in /opt/homebrew/Caskroom/miniforge/base/envs/pytorch/lib/python3.8/site-packages (from requests->pykrx) (3.3)\n",
      "Requirement already satisfied: urllib3<1.27,>=1.21.1 in /opt/homebrew/Caskroom/miniforge/base/envs/pytorch/lib/python3.8/site-packages (from requests->pykrx) (1.26.11)\n",
      "Requirement already satisfied: six>=1.5 in /opt/homebrew/Caskroom/miniforge/base/envs/pytorch/lib/python3.8/site-packages (from python-dateutil>=2.7->matplotlib->pykrx) (1.16.0)\n",
      "Requirement already satisfied: setuptools in /opt/homebrew/Caskroom/miniforge/base/envs/pytorch/lib/python3.8/site-packages (from zope.interface->datetime->pykrx) (63.1.0)\n",
      "\u001b[33mWARNING: You are using pip version 21.3.1; however, version 24.1.2 is available.\n",
      "You should consider upgrading via the '/opt/homebrew/Caskroom/miniforge/base/envs/pytorch/bin/python -m pip install --upgrade pip' command.\u001b[0m\n",
      "Note: you may need to restart the kernel to use updated packages.\n"
     ]
    }
   ],
   "source": [
    "%pip install pykrx"
   ]
  },
  {
   "cell_type": "code",
   "execution_count": 1,
   "metadata": {},
   "outputs": [],
   "source": [
    "from pykrx import stock\n",
    "from pykrx import bond"
   ]
  },
  {
   "cell_type": "code",
   "execution_count": 2,
   "metadata": {},
   "outputs": [
    {
     "name": "stdout",
     "output_type": "stream",
     "text": [
      "              BPS    PER   PBR   EPS   DIV   DPS\n",
      "날짜                                              \n",
      "2024-01-04  57822   9.51  1.32  8057  1.89  1444\n",
      "2024-01-05  57822   9.51  1.32  8057  1.89  1444\n",
      "2024-01-08  57822   9.49  1.32  8057  1.89  1444\n",
      "2024-01-09  57822   9.27  1.29  8057  1.93  1444\n",
      "2024-01-10  57822   9.13  1.27  8057  1.96  1444\n",
      "...           ...    ...   ...   ...   ...   ...\n",
      "2024-07-02  52002  38.39  1.57  2131  1.77  1444\n",
      "2024-07-03  52002  38.39  1.57  2131  1.77  1444\n",
      "2024-07-04  52002  39.70  1.63  2131  1.71  1444\n",
      "2024-07-05  52002  40.87  1.67  2131  1.66  1444\n",
      "2024-07-08  52002  41.01  1.68  2131  1.65  1444\n",
      "\n",
      "[125 rows x 6 columns]\n"
     ]
    }
   ],
   "source": [
    "df = stock.get_market_fundamental(\"20240104\", \"20240708\", \"005930\")\n",
    "print(df)"
   ]
  },
  {
   "cell_type": "markdown",
   "metadata": {},
   "source": [
    "## 인덱스 조회\n",
    "### 인덱스란?\n",
    " - 특정 시장 또는 시장의 일부를 나타내는 지표. 여러 주식의 가격을 종합하여 하나의 숫자로 나타내며, 시장 전체의 동향을 파악하는 데 사용"
   ]
  },
  {
   "cell_type": "code",
   "execution_count": 4,
   "metadata": {},
   "outputs": [
    {
     "name": "stdout",
     "output_type": "stream",
     "text": [
      "1001 코스피\n",
      "1002 코스피 대형주\n",
      "1003 코스피 중형주\n",
      "1004 코스피 소형주\n",
      "1005 음식료품\n",
      "1006 섬유의복\n",
      "1007 종이목재\n",
      "1008 화학\n",
      "1009 의약품\n",
      "1010 비금속광물\n",
      "1011 철강금속\n",
      "1012 기계\n",
      "1013 전기전자\n",
      "1014 의료정밀\n",
      "1015 운수장비\n",
      "1016 유통업\n",
      "1017 전기가스업\n",
      "1018 건설업\n",
      "1019 운수창고업\n",
      "1020 통신업\n",
      "1021 금융업\n",
      "1024 증권\n",
      "1025 보험\n",
      "1026 서비스업\n",
      "1027 제조업\n",
      "1028 코스피 200\n",
      "1034 코스피 100\n",
      "1035 코스피 50\n",
      "1150 코스피 200 커뮤니케이션서비스\n",
      "1151 코스피 200 건설\n",
      "1152 코스피 200 중공업\n",
      "1153 코스피 200 철강/소재\n",
      "1154 코스피 200 에너지/화학\n",
      "1155 코스피 200 정보기술\n",
      "1156 코스피 200 금융\n",
      "1157 코스피 200 생활소비재\n",
      "1158 코스피 200 경기소비재\n",
      "1159 코스피 200 산업재\n",
      "1160 코스피 200 헬스케어\n",
      "1167 코스피 200 중소형주\n",
      "1182 코스피 200 초대형제외 지수\n",
      "1224 코스피 200 비중상한 30%\n",
      "1227 코스피 200 비중상한 25%\n",
      "1232 코스피 200 비중상한 20%\n",
      "1244 코스피200제외 코스피지수\n",
      "1894 코스피 200 TOP 10\n"
     ]
    }
   ],
   "source": [
    "for ticker in stock.get_index_ticker_list():\n",
    "    print(ticker, stock.get_index_ticker_name(ticker))"
   ]
  },
  {
   "cell_type": "markdown",
   "metadata": {},
   "source": [
    "## 인덱스별 구성 종목 조회"
   ]
  },
  {
   "cell_type": "code",
   "execution_count": 4,
   "metadata": {},
   "outputs": [
    {
     "name": "stdout",
     "output_type": "stream",
     "text": [
      "495 ['005930', '000660', '373220', '207940', '005380', '000270', '068270', '005490', '006400', '051910', '012330', '066570', '003670', '329180', '012450', '042700', '267260', '034020', '033780', '009150', '090430', '010130', '096770', '010140', '042660', '000100', '010120', '010950', '011070', '034220', '450080', '097950', '011790', '051900', '454910', '064350', '003230', '161390', '079550', '047810', '241560', '272210', '005070', '011170', '009830', '302440', '011780', '010620', '066970', '128940', '001570', '004020', '271560', '298040', '007660', '004370', '002380', '361610', '002790', '001440', '018880', '383220', '278470', '000990', '000880', '112610', '014680', '009420', '280360', '192820', '020150', '005850', '204320', '042670', '017800', '007310', '103140', '298050', '069620', '006280', '161890', '073240', '298020', '082740', '000080', '011210', '185750', '267270', '336260', '336370', '103590', '108320', '005300', '014820', '003090', '003620', '004000', '004490', '137310', '353200', '457190', '120110', '002840', '000210', '002710', '145720', '248070', '281820', '300720', '178920', '005420', '009450', '001680', '005180', '006110', '268280', '271940', '285130', '456040', '049770', '069260', '090460', '093370', '100090', '105630', '195870', '006650', '007340', '008730', '009900', '010780', '001060', '001430', '002350', '003240', '003570', '003850', '003960', '344820', '000670', '071970', '075580', '161000', '170900', '192650', '006380', '014830', '016380', '016800', '017810', '017860', '017960', '018250', '019170', '025540', '064960', '241590', '005610', '377740', '460860', '058650', '077970', '093050', '097520', '104700', '108670', '145990', '183190', '200880', '007460', '011930', '020000', '033240', '033270', '001340', '001820', '002240', '002960', '003160', '003300', '003520', '003920', '249420', '272550', '005720', '322000', '035150', '058430', '084010', '084680', '092220', '092230', '092790', '100840', '102460', '115390', '138490', '213500', '214420', '226320', '006340', '006390', '007570', '007690', '007810', '009160', '009290', '009470', '009680', '010690', '013890', '016580', '018470', '025860', '029460', '029530', '000020', '000430', '000480', '000490', '000500', '001130', '001390', '001630', '001780', '001790', '001940', '002310', '003000', '003120', '003220', '003350', '004380', '004430', '004560', '004700', '005010', '005500', '005690', '306200', '000220', '000230', '000390', '000520', '000860', '000910', '000970', '001020', '001080', '001360', '001380', '001460', '001520', '001560', '002100', '002170', '002200', '002210', '002390', '002450', '002600', '002720', '002900', '003060', '003200', '003610', '003650', '003720', '003780', '003830', '004090', '004100', '004250', '004310', '004540', '004710', '004720', '004830', '004840', '004890', '004910', '004980', '005680', '005800', '005870', '005950', '006060', '006090', '006660', '006890', '007210', '007280', '007590', '007980', '008040', '008110', '008260', '008350', '008490', '008700', '008970', '009200', '009270', '009580', '010040', '010100', '010580', '010820', '011000', '011150', '011280', '011300', '011330', '011500', '011690', '011700', '012600', '012610', '012690', '012800', '013520', '013870', '014160', '014280', '014530', '014580', '014710', '015230', '015590', '015890', '016090', '016450', '016590', '016740', '017040', '017370', '017550', '017900', '019440', '021820', '023000', '023450', '023800', '023810', '024090', '024900', '025000', '025820', '027970', '032560', '033180', '033530', '033920', '036580', '041650', '047400', '055490', '063160', '074610', '078520', '079430', '079980', '081000', '083420', '089470', '090350', '092200', '092440', '092780', '100250', '101530', '105840', '109070', '111380', '120030', '134380', '136490', '139990', '145210', '163560', '194370', '210540', '214330', '214390', '234080', '248170', '264900', '271980', '282690', '293480', '298000', '372910', '378850', '460850', '462520', '021050', '023150', '024070', '024890', '025560', '025620', '025750', '025890', '026940', '027740', '033250', '044380', '049800', '051630', '058730', '069460', '069730', '071090', '071950', '075180', '084870', '085310', '090080', '090370', '091090', '093240', '102280', '111110', '119650', '123700', '133820', '134790', '143210', '155660', '308170', '446070', '000040', '000300', '000850', '000890', '000950', '001070', '001210', '001420', '001550', '001620', '001770', '002070', '002140', '002220', '002360', '002630', '002690', '002760', '002820', '002880', '002920', '003080', '003680', '004410', '004440', '004450', '004770', '004870', '004920', '005030', '005750', '005820', '006570', '006740', '006980', '007610', '008250', '008420', '008500', '008870', '009140', '009190', '009310', '009320', '009460', '009770', '010640', '010660', '010770', '011090', '011230', '011390', '012160', '012200', '012280', '014440', '014910', '014990', '015260', '017180', '018500', '019180', '019490', '020760']\n"
     ]
    }
   ],
   "source": [
    "pdf = stock.get_index_portfolio_deposit_file(\"1027\")\n",
    "print(len(pdf), pdf)"
   ]
  },
  {
   "cell_type": "markdown",
   "metadata": {},
   "source": [
    "# csv로 추출"
   ]
  },
  {
   "cell_type": "code",
   "execution_count": 3,
   "metadata": {},
   "outputs": [],
   "source": [
    "import csv\n",
    "with open(\"index_info.csv\", 'w', newline='', encoding='utf-8') as f:\n",
    "    fieldnames = ['ticker', 'name', 'corp_list']\n",
    "    writer = csv.DictWriter(f, fieldnames=fieldnames)\n",
    "    writer.writeheader()\n",
    "    for ticker in stock.get_index_ticker_list():\n",
    "        writer.writerow({\"ticker\":str(ticker), \"name\":stock.get_index_ticker_name(ticker), \"corp_list\":\",\".join(stock.get_index_portfolio_deposit_file(ticker))})"
   ]
  },
  {
   "cell_type": "markdown",
   "metadata": {},
   "source": [
    "## 코스피 상장 종목 조회"
   ]
  },
  {
   "cell_type": "code",
   "execution_count": 8,
   "metadata": {},
   "outputs": [
    {
     "name": "stdout",
     "output_type": "stream",
     "text": [
      "955\n",
      "298690 에어부산\n"
     ]
    }
   ],
   "source": [
    "tickers = stock.get_market_ticker_list(\"20240724\")\n",
    "print(len(tickers))\n",
    "\n",
    "for ticker in tickers:\n",
    "    if stock.get_market_ticker_name(ticker) == \"에어부산\":\n",
    "        print(ticker, stock.get_market_ticker_name(ticker))"
   ]
  },
  {
   "cell_type": "markdown",
   "metadata": {},
   "source": [
    "## 종목별 OHLCV 조회\n",
    "### 종목이란?\n",
    " - 특정 기업의 주식\n",
    "### OHLCV란?\n",
    " - 특정 자산의 가격 데이터를 요약하는데 사용되는 다섯가지 지표\n",
    " - Open(시가), High(고가), Low(저가), Close(종가), Volume(거래량)"
   ]
  },
  {
   "cell_type": "code",
   "execution_count": 12,
   "metadata": {},
   "outputs": [
    {
     "name": "stdout",
     "output_type": "stream",
     "text": [
      "True\n"
     ]
    }
   ],
   "source": [
    "print(\"005930\" in tickers)"
   ]
  },
  {
   "cell_type": "code",
   "execution_count": 15,
   "metadata": {},
   "outputs": [
    {
     "name": "stdout",
     "output_type": "stream",
     "text": [
      "               시가     고가     저가     종가       거래량       등락률\n",
      "날짜                                                        \n",
      "2024-07-18  83800  86900  83800  86900  24721790  0.230681\n",
      "2024-07-19  85600  86100  84100  84400  18569122 -2.876870\n",
      "2024-07-22  84400  84900  82600  83000  18987560 -1.658768\n",
      "2024-07-23  84200  84700  83400  83900  15766389  1.084337\n",
      "2024-07-24  82900  83300  81900  82000  16790758 -2.264601\n"
     ]
    }
   ],
   "source": [
    "df = stock.get_market_ohlcv(\"20240101\", \"20240724\", \"005930\")\n",
    "print(df.tail())"
   ]
  },
  {
   "cell_type": "markdown",
   "metadata": {},
   "source": [
    "## 종목별 PER, PBR 조회"
   ]
  },
  {
   "cell_type": "code",
   "execution_count": 4,
   "metadata": {},
   "outputs": [
    {
     "name": "stdout",
     "output_type": "stream",
     "text": [
      "           BPS     PER   PBR   EPS   DIV   DPS\n",
      "티커                                            \n",
      "060310     745    0.00  3.03     0  0.00     0\n",
      "054620   10530    0.00  0.76     0  0.00     0\n",
      "265520    7468   38.00  3.41   671  0.20    50\n",
      "211270    5479  163.33  1.52    51  0.84    70\n",
      "035760  134364   26.70  1.06  5310  0.99  1400\n",
      "...        ...     ...   ...   ...   ...   ...\n",
      "024060    5133   12.84  1.43   570  2.05   150\n",
      "010240    5477   10.26  1.06   568  2.57   150\n",
      "189980    1745   13.28  1.15   151  1.50    30\n",
      "037440    3827   13.68  1.03   288  3.81   150\n",
      "238490    5382   17.19  2.42   759  1.53   200\n",
      "\n",
      "[1450 rows x 6 columns]\n"
     ]
    }
   ],
   "source": [
    "df = stock.get_market_fundamental(\"20210104\", market=\"KOSDAQ\")\n",
    "print(df)"
   ]
  },
  {
   "cell_type": "markdown",
   "metadata": {},
   "source": [
    "## "
   ]
  }
 ],
 "metadata": {
  "kernelspec": {
   "display_name": "pytorch",
   "language": "python",
   "name": "python3"
  },
  "language_info": {
   "codemirror_mode": {
    "name": "ipython",
    "version": 3
   },
   "file_extension": ".py",
   "mimetype": "text/x-python",
   "name": "python",
   "nbconvert_exporter": "python",
   "pygments_lexer": "ipython3",
   "version": "3.8.13"
  }
 },
 "nbformat": 4,
 "nbformat_minor": 2
}
